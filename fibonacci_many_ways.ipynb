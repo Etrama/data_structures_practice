{
 "cells": [
  {
   "cell_type": "code",
   "execution_count": 88,
   "metadata": {},
   "outputs": [],
   "source": [
    "def fib_iter(n):\n",
    "    num_1, num_2 = 0, 1\n",
    "    if n == 1:\n",
    "        return num_1\n",
    "    if n == 2:\n",
    "        return num_2\n",
    "    if n >= 3:\n",
    "        for i in range(3, n+1):\n",
    "            new_num = num_1 + num_2\n",
    "            num_1, num_2 = num_2, new_num\n",
    "        return num_2"
   ]
  },
  {
   "cell_type": "code",
   "execution_count": 89,
   "metadata": {},
   "outputs": [
    {
     "data": {
      "text/plain": [
       "13"
      ]
     },
     "execution_count": 89,
     "metadata": {},
     "output_type": "execute_result"
    }
   ],
   "source": [
    "fib_iter(8)"
   ]
  },
  {
   "cell_type": "code",
   "execution_count": 90,
   "metadata": {},
   "outputs": [],
   "source": [
    "#writing the function myself:\n",
    "def fib_recur(n):\n",
    "    if n == 0:\n",
    "        return \"Invalid Input, enter a natural number >= 1\"\n",
    "    if n == 1:\n",
    "        return 0\n",
    "    elif n == 2:\n",
    "        return 1\n",
    "    else:\n",
    "        return fib(n-1) + fib(n-2)"
   ]
  },
  {
   "cell_type": "code",
   "execution_count": 91,
   "metadata": {},
   "outputs": [
    {
     "data": {
      "text/plain": [
       "3"
      ]
     },
     "execution_count": 91,
     "metadata": {},
     "output_type": "execute_result"
    }
   ],
   "source": [
    "fib_recur(5)"
   ]
  },
  {
   "cell_type": "code",
   "execution_count": null,
   "metadata": {},
   "outputs": [],
   "source": [
    "fib_recur(50)\n",
    "#stopped at 2mins 30s secs"
   ]
  },
  {
   "cell_type": "code",
   "execution_count": 92,
   "metadata": {},
   "outputs": [],
   "source": [
    "#writing fib function using dp:\n",
    "def fib_dp(n):\n",
    "    if n == 0:\n",
    "        return \"Invalid Input, enter a natural number >= 1\"\n",
    "    if n == 1:\n",
    "        return 1\n",
    "    if n == 2:\n",
    "        return 1\n",
    "    else:\n",
    "        fib_list = [None, 0, 1]\n",
    "        for i in range(3, n+1):\n",
    "            fib_list.append(fib_list[i-1] + fib_list[i-2])\n",
    "        return fib_list[n]"
   ]
  },
  {
   "cell_type": "code",
   "execution_count": 93,
   "metadata": {},
   "outputs": [
    {
     "data": {
      "text/plain": [
       "5"
      ]
     },
     "execution_count": 93,
     "metadata": {},
     "output_type": "execute_result"
    }
   ],
   "source": [
    "fib_dp(6)"
   ]
  },
  {
   "cell_type": "code",
   "execution_count": 94,
   "metadata": {},
   "outputs": [
    {
     "data": {
      "text/plain": [
       "7778742049"
      ]
     },
     "execution_count": 94,
     "metadata": {},
     "output_type": "execute_result"
    }
   ],
   "source": [
    "fib_dp(50)\n",
    "#2mins 30s secs+ vs. 0.1 secs, that's quite an improvement!!!"
   ]
  },
  {
   "cell_type": "code",
   "execution_count": 95,
   "metadata": {},
   "outputs": [],
   "source": [
    "import time"
   ]
  },
  {
   "cell_type": "code",
   "execution_count": 96,
   "metadata": {},
   "outputs": [
    {
     "name": "stdout",
     "output_type": "stream",
     "text": [
      "Time taken by fib iter is 0.0, value is 218922995834555169026\n"
     ]
    }
   ],
   "source": [
    "time_1 = time.time()\n",
    "output = fib_iter(100)\n",
    "time_2 = time.time()\n",
    "print(f\"Time taken by fib iter is {time_2-time_1}, value is {output}\")"
   ]
  },
  {
   "cell_type": "code",
   "execution_count": null,
   "metadata": {},
   "outputs": [],
   "source": [
    "time_1 = time.time()\n",
    "output = fib_recur(100)\n",
    "time_2 = time.time()\n",
    "print(f\"Time taken by fib recur is {time_2-time_1}, value is {output}\")\n",
    "#This will take quite a while."
   ]
  },
  {
   "cell_type": "code",
   "execution_count": 97,
   "metadata": {},
   "outputs": [
    {
     "name": "stdout",
     "output_type": "stream",
     "text": [
      "Time taken by fib dp is 0.0, value is 218922995834555169026\n"
     ]
    }
   ],
   "source": [
    "time_1 = time.time()\n",
    "output = fib_dp(100)\n",
    "time_2 = time.time()\n",
    "print(f\"Time taken by fib dp is {time_2-time_1}, value is {output}\")"
   ]
  },
  {
   "cell_type": "markdown",
   "metadata": {},
   "source": [
    "### Counter-intuitively for me at least, recursive fibonacci calculation has the worst time complexity."
   ]
  },
  {
   "cell_type": "code",
   "execution_count": null,
   "metadata": {},
   "outputs": [],
   "source": [
    "#used co-pilot\n",
    "#write a recursive function to find the nth fibonacci number\n",
    "def fibonacci(n):\n",
    "    if n == 0:\n",
    "        return 0\n",
    "    elif n == 1:\n",
    "        return 1\n",
    "    else:\n",
    "        return fibonacci(n-1) + fibonacci(n-2)"
   ]
  },
  {
   "cell_type": "code",
   "execution_count": null,
   "metadata": {},
   "outputs": [],
   "source": [
    "#used co-pilot\n",
    "#write a recursive function using dynamic programming to find the nth fibonacci number\n",
    "def fibonacci_dp(n):\n",
    "    if n == 0:\n",
    "        return 0\n",
    "    elif n == 1:\n",
    "        return 1\n",
    "    else:\n",
    "        fib_list = [0, 1]\n",
    "        for i in range(2, n+1):\n",
    "            fib_list.append(fib_list[i-1] + fib_list[i-2])\n",
    "        return fib_list[n]"
   ]
  },
  {
   "cell_type": "code",
   "execution_count": null,
   "metadata": {},
   "outputs": [],
   "source": []
  }
 ],
 "metadata": {
  "kernelspec": {
   "display_name": "Python 3.9.7 ('ift6758-conda-env')",
   "language": "python",
   "name": "python3"
  },
  "language_info": {
   "codemirror_mode": {
    "name": "ipython",
    "version": 3
   },
   "file_extension": ".py",
   "mimetype": "text/x-python",
   "name": "python",
   "nbconvert_exporter": "python",
   "pygments_lexer": "ipython3",
   "version": "3.9.7"
  },
  "orig_nbformat": 4,
  "vscode": {
   "interpreter": {
    "hash": "77cddf3328571670f9f7ebe068deaf3b3d292be3459997ecb27894d9e7c75cba"
   }
  }
 },
 "nbformat": 4,
 "nbformat_minor": 2
}
